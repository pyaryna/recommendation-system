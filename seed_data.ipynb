{
 "cells": [
  {
   "cell_type": "markdown",
   "metadata": {},
   "source": [
    "# File for seeding test data into the MongoDB database"
   ]
  },
  {
   "cell_type": "markdown",
   "metadata": {},
   "source": [
    "1. Books are taken from the free dataset available on Kaggle and rewritten to MongoDB documents\n",
    "2. Users are created using some free tool to generate random MongoDB documents and are read from the file\n",
    "3. Other data are generated based on 1. and 2."
   ]
  },
  {
   "cell_type": "markdown",
   "metadata": {},
   "source": [
    "All configuration information (passwords, connecting string etc.) is stored in the config file and is not added to the repository."
   ]
  },
  {
   "cell_type": "code",
   "execution_count": null,
   "metadata": {},
   "outputs": [],
   "source": [
    "import csv \n",
    "import json\n",
    "from bson.objectid import ObjectId\n",
    "\n",
    "import asyncio\n",
    "import nest_asyncio\n",
    "import motor.motor_asyncio\n",
    "\n",
    "from config import *\n",
    "\n",
    "nest_asyncio.apply()"
   ]
  },
  {
   "cell_type": "code",
   "execution_count": null,
   "metadata": {},
   "outputs": [],
   "source": [
    "client = motor.motor_asyncio.AsyncIOMotorClient(connectionString)\n",
    "db = client.test\n",
    "\n",
    "try:\n",
    "    print(client.server_info())\n",
    "except Exception:\n",
    "    print(\"Unable to connect to the server.\")\n",
    "\n",
    "    db = client['masters']\n",
    "collection = db.books\n",
    "collection"
   ]
  },
  {
   "cell_type": "code",
   "execution_count": null,
   "metadata": {},
   "outputs": [],
   "source": [
    "# convert a gived csv file into json format with data preprocessing and same to the .json file\n",
    "\n",
    "def csv_to_json(csvFilePath, jsonFilePath):\n",
    "    jsonArray = []\n",
    "    unusedColumns = ['','rating','voters','published_date','page_count']\n",
    "      \n",
    "    #read csv file\n",
    "    with open(csvFilePath, encoding='utf-8') as csvf: \n",
    "        #load csv file data using csv library's dictionary reader\n",
    "        csvReader = csv.DictReader(csvf)   \n",
    "\n",
    "        #convert each csv row into python dict\n",
    "        for row in csvReader: \n",
    "            row['price'] = round(float(row['price']) * 0.27, 2)\n",
    "            row['currency'] = 'USD'\n",
    "            row['generes'] = [element.strip() for element in list(row['generes'].split(\",\"))]\n",
    "            row['pageCount'] = int(row['page_count'])\n",
    "            row['publishedDate'] = row['published_date']\n",
    "            row['imageUrl'] = 'https://mastersimages.blob.core.windows.net/images/book.jpg'\n",
    "\n",
    "            for column in unusedColumns:\n",
    "                del row[column]\n",
    "            \n",
    "            #add this python dict to json array\n",
    "            jsonArray.append(row)\n",
    "\n",
    "    result = list({v['title']:v for v in jsonArray}.values())\n",
    "    print(len(result))\n",
    "  \n",
    "    # convert python jsonArray to JSON String and write to file\n",
    "    with open(jsonFilePath, 'w', encoding='utf-8') as jsonf: \n",
    "        jsonString = json.dumps(result, indent=4)\n",
    "        jsonf.write(jsonString)\n",
    "          \n",
    "csvFilePath = r'google_books_1299.csv'\n",
    "jsonFilePath = r'books.json'\n",
    "csv_to_json(csvFilePath, jsonFilePath) # convert data from a given file"
   ]
  },
  {
   "cell_type": "code",
   "execution_count": null,
   "metadata": {},
   "outputs": [],
   "source": [
    "# inserting book items into books colection in the database\n",
    "\n",
    "def readJsonFile(fileName):\n",
    "    with open(fileName, encoding='utf-8') as file: \n",
    "        return json.load(file)\n",
    "\n",
    "async def do_insert(dataset, fileName):\n",
    "    data = readJsonFile(fileName)\n",
    "    result = await db[dataset].insert_many(\n",
    "        [ i for i in data])\n",
    "\n",
    "loop = asyncio.get_event_loop()\n",
    "loop.run_until_complete(do_insert('books', 'books.json'))"
   ]
  },
  {
   "cell_type": "code",
   "execution_count": null,
   "metadata": {},
   "outputs": [],
   "source": [
    "# inserting user items into users colection in the database\n",
    "\n",
    "loop = asyncio.get_event_loop()\n",
    "loop.run_until_complete(do_insert('users', 'users.json'))"
   ]
  },
  {
   "cell_type": "code",
   "execution_count": null,
   "metadata": {},
   "outputs": [],
   "source": [
    "# selection books from the database\n",
    "\n",
    "async def do_find(dataset):\n",
    "    result = []\n",
    "    cursor = db[dataset].find({})\n",
    "    for document in await cursor.to_list(length=1400):\n",
    "        result.append(document)\n",
    "    return result\n",
    "\n",
    "# selection active users from the database\n",
    "\n",
    "async def do_find_active_users():\n",
    "    result = []\n",
    "    cursor = db['users'].find({\n",
    "        'isActive': True\n",
    "    })\n",
    "    for document in await cursor.to_list(length=1400):\n",
    "        result.append(document)\n",
    "    return result\n",
    "\n",
    "# this data is used in the next blocks to generate \"rates\" and \"orders\" collections"
   ]
  },
  {
   "cell_type": "code",
   "execution_count": null,
   "metadata": {},
   "outputs": [],
   "source": [
    "import random\n",
    "import datetime\n",
    "\n",
    "# rates collection generation and uploading to the database\n",
    "\n",
    "loop = asyncio.get_event_loop()\n",
    "books = loop.run_until_complete(do_find('books'))\n",
    "\n",
    "loop = asyncio.get_event_loop()\n",
    "users = loop.run_until_complete(do_find_active_users())\n",
    "\n",
    "rates = []\n",
    "\n",
    "for i in range(100):\n",
    "    dict = {}\n",
    "    dict['bookId'] = books[i]['_id']\n",
    "    dict_list = []\n",
    "\n",
    "    for j in range(10):\n",
    "        usersRandom = random.randint(0, 9)        \n",
    "\n",
    "        rate = {}\n",
    "        rate['userId'] = users[usersRandom]['_id']\n",
    "        rate['rate'] = random.randint(1, 5)\n",
    "        rate['comment'] = 'Lorem ipsum dolor sit amet..'\n",
    "        day_diff = random.randint(0, 3)\n",
    "        yesterday = datetime.datetime.utcnow() - datetime.timedelta(days = day_diff)\n",
    "        rate['createdAt'] = datetime.datetime(yesterday.year, yesterday.month, yesterday.day)\n",
    "\n",
    "        existing = False\n",
    "        \n",
    "        for item in dict_list:\n",
    "            if(item['userId'] == rate['userId']):\n",
    "                existing = True\n",
    "\n",
    "        if(existing == False):\n",
    "            dict_list.append(rate)\n",
    "\n",
    "    dict['reviews'] = dict_list\n",
    "    rates.append(dict)\n",
    "\n",
    "async def do_insert_data(data):\n",
    "    result = await db.rates.insert_many(\n",
    "        [ i for i in data])\n",
    "    \n",
    "loop = asyncio.get_event_loop()\n",
    "loop.run_until_complete(do_insert_data(rates))"
   ]
  },
  {
   "cell_type": "code",
   "execution_count": null,
   "metadata": {},
   "outputs": [],
   "source": [
    "# orders collection generation and uploading to the database\n",
    "\n",
    "orders = []\n",
    "\n",
    "for i in range(300):\n",
    "    booksAmount = random.randint(1, 5)\n",
    "    usersRandom = random.randint(0, 119)\n",
    "\n",
    "    dict = {}\n",
    "    orderBooks = []\n",
    "    \n",
    "    dict['userId'] = users[usersRandom]['_id']\n",
    "\n",
    "    for i in range(booksAmount):\n",
    "        booksRandom = random.randint(0, 245)\n",
    "        orderBooks.append(books[booksRandom]['_id'])\n",
    "\n",
    "    dict['booksId'] = orderBooks\n",
    "\n",
    "    day_diff = random.randint(0, 100)\n",
    "    yesterday = datetime.datetime.utcnow() - datetime.timedelta(days = day_diff)\n",
    "    dict['createdAt'] = datetime.datetime(yesterday.year, yesterday.month, yesterday.day)\n",
    "\n",
    "    orders.append(dict)\n",
    "\n",
    "print(len(orders))\n",
    "\n",
    "async def do_insert_data(data):\n",
    "    result = await db.orders.insert_many(\n",
    "        [ i for i in data])\n",
    "    \n",
    "loop = asyncio.get_event_loop()\n",
    "loop.run_until_complete(do_insert_data(orders))"
   ]
  },
  {
   "cell_type": "code",
   "execution_count": null,
   "metadata": {},
   "outputs": [],
   "source": [
    "# funtion for deleting uploaded to the database data in case of any error\n",
    "\n",
    "async def do_delete_many():\n",
    "    coll = db.rates\n",
    "    n = await coll.count_documents({})\n",
    "    print('%s documents before calling delete_many()' % n)\n",
    "    result = await db.rates.delete_many({'i': {'$ne': ''}})\n",
    "    print('%s documents after' % (await coll.count_documents({})))\n",
    "\n",
    "loop = asyncio.get_event_loop()\n",
    "loop.run_until_complete(do_delete_many())"
   ]
  }
 ],
 "metadata": {
  "interpreter": {
   "hash": "afb734500600fd355917ca529030176ea0ca205570884b88f2f6f7d791fd3fbe"
  },
  "kernelspec": {
   "display_name": "Python 3.10.2 64-bit",
   "language": "python",
   "name": "python3"
  },
  "language_info": {
   "name": "python",
   "version": "3.10.2"
  },
  "orig_nbformat": 4
 },
 "nbformat": 4,
 "nbformat_minor": 2
}
